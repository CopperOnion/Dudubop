{
 "cells": [
  {
   "cell_type": "code",
   "execution_count": 6,
   "metadata": {},
   "outputs": [],
   "source": [
    "# code from: https://towardsdatascience.com/lstm-text-classification-using-pytorch-2c6c657f8fc0\n",
    "\n",
    "import pandas as pd\n",
    "from sklearn.model_selection import train_test_split\n",
    "\n",
    "raw_data_path = '/home/paul/Desktop/Paul/PyTorch-Hackathon-2020/cheng-news/news.csv'\n",
    "destination_folder = '/home/paul/Desktop/Paul/PyTorch-Hackathon-2020/cheng-news'\n",
    "\n",
    "train_test_ratio = 0.10\n",
    "train_valid_ratio = 0.80\n",
    "\n",
    "first_n_words = 200\n",
    "\n",
    "def trim_string(x):\n",
    "    x = x.split(maxsplit=first_n_words)\n",
    "    x = ' '.join(x[:first_n_words])\n",
    "    return x"
   ]
  },
  {
   "cell_type": "code",
   "execution_count": 8,
   "metadata": {},
   "outputs": [],
   "source": [
    "# Libraries\n",
    "\n",
    "import matplotlib.pyplot as plt\n",
    "import pandas as pd\n",
    "import torch\n",
    "\n",
    "# Preliminaries\n",
    "\n",
    "from torchtext.data import Field, TabularDataset, BucketIterator\n",
    "\n",
    "# Models\n",
    "\n",
    "import torch.nn as nn\n",
    "from torch.nn.utils.rnn import pack_padded_sequence, pad_packed_sequence\n",
    "\n",
    "# Training\n",
    "\n",
    "import torch.optim as optim\n",
    "\n",
    "# Evaluation\n",
    "\n",
    "from sklearn.metrics import accuracy_score, classification_report, confusion_matrix\n",
    "import seaborn as sns"
   ]
  },
  {
   "cell_type": "code",
   "execution_count": 20,
   "metadata": {},
   "outputs": [],
   "source": [
    "class LSTM(nn.Module):\n",
    "\n",
    "    def __init__(self, dimension=128):\n",
    "        super(LSTM, self).__init__()\n",
    "\n",
    "        self.embedding = nn.Embedding(len(text_field.vocab), 300)\n",
    "        self.dimension = dimension\n",
    "        self.lstm = nn.LSTM(input_size=300,\n",
    "                            hidden_size=dimension,\n",
    "                            num_layers=1,\n",
    "                            batch_first=True,\n",
    "                            bidirectional=True)\n",
    "        self.drop = nn.Dropout(p=0.5)\n",
    "\n",
    "        self.fc = nn.Linear(2*dimension, 1)\n",
    "\n",
    "    def forward(self, text, text_len):\n",
    "\n",
    "\n",
    "        \n",
    "        text_emb = self.embedding(text)\n",
    "\n",
    "        output, h = self.lstm(text_emb)\n",
    "\n",
    "        packed_input = pack_padded_sequence(text_emb, text_len, batch_first=True, enforce_sorted=False)\n",
    "\n",
    "        packed_output, _ = self.lstm(packed_input)\n",
    "\n",
    "        output, _ = pad_packed_sequence(packed_output, batch_first=True)\n",
    "\n",
    "        out_forward = output[range(len(output)), text_len - 1, :self.dimension]\n",
    "\n",
    "        out_reverse = output[:, 0, self.dimension:]\n",
    "\n",
    "        out_reduced = torch.cat((out_forward, out_reverse), 1)\n",
    "\n",
    "        text_fea = self.drop(out_reduced)\n",
    "\n",
    "        text_fea = self.fc(text_fea)\n",
    "\n",
    "        text_fea = torch.squeeze(text_fea, 1)\n",
    "\n",
    "        text_out = torch.sigmoid(text_fea)\n",
    "\n",
    "        return text_out"
   ]
  },
  {
   "cell_type": "code",
   "execution_count": 16,
   "metadata": {},
   "outputs": [],
   "source": [
    "# preprocess kaggle dataset\n",
    "kaggle_data_path = '/home/paul/Desktop/Paul/PyTorch-Hackathon-2020/fake_and_real_news/Combined.csv'\n",
    "kaggle_destination_folder = '/home/paul/Desktop/Paul/PyTorch-Hackathon-2020/fake_and_real_news/'\n",
    "\n",
    "# read in csv file\n",
    "df_kaggle_raw = pd.read_csv(kaggle_data_path)\n",
    "\n",
    "# prepare columns\n",
    "df_kaggle_raw['label'] = (df_kaggle_raw['authenticity'] == 'Fake').astype(int)\n",
    "df_kaggle_raw['titletext'] = df_kaggle_raw['title'] + \". \" + df_kaggle_raw['text']\n",
    "df_kaggle_raw = df_kaggle_raw.reindex(columns=['label', 'title', 'text', 'titletext'])\n",
    "\n",
    "# Drop rows with empty text\n",
    "df_kaggle_raw.drop( df_kaggle_raw[df_kaggle_raw.text.str.len() < 5].index, inplace=True)\n",
    "\n",
    "# Trim texts to first n words\n",
    "df_kaggle_raw['text'] = df_kaggle_raw['text'].apply(trim_string)\n",
    "df_kaggle_raw['titletext'] = df_kaggle_raw['titletext'].apply(trim_string)\n",
    "\n",
    "# Split into real and fake\n",
    "df_kaggle_real = df_kaggle_raw[df_kaggle_raw['label'] == 0]\n",
    "df_kaggle_fake = df_kaggle_raw[df_kaggle_raw['label'] == 1]\n",
    "\n",
    "# Train-test split\n",
    "df_kaggle_real_full_train, df_kaggle_real_test = train_test_split(df_kaggle_real, train_size = train_test_ratio, random_state = 1)\n",
    "df_kaggle_fake_full_train, df_kaggle_fake_test = train_test_split(df_kaggle_fake, train_size = train_test_ratio, random_state = 1)\n",
    "\n",
    "# Train-valid split\n",
    "df_kaggle_real_train, df_kaggle_real_valid = train_test_split(df_kaggle_real_full_train, train_size = train_valid_ratio, random_state = 1)\n",
    "df_kaggle_fake_train, df_kaggle_fake_valid = train_test_split(df_kaggle_fake_full_train, train_size = train_valid_ratio, random_state = 1)\n",
    "\n",
    "# Concatenate splits of different labels\n",
    "df_kaggle_train = pd.concat([df_kaggle_real_train, df_kaggle_fake_train], ignore_index=True, sort=False)\n",
    "df_kaggle_valid = pd.concat([df_kaggle_real_valid, df_kaggle_fake_valid], ignore_index=True, sort=False)\n",
    "df_kaggle_test = pd.concat([df_kaggle_real_test, df_kaggle_fake_test], ignore_index=True, sort=False)\n",
    "\n",
    "# Write preprocessed data\n",
    "df_train.to_csv(kaggle_destination_folder + '/train.csv', index=False)\n",
    "df_valid.to_csv(kaggle_destination_folder + '/valid.csv', index=False)\n",
    "df_test.to_csv(kaggle_destination_folder + '/test.csv', index=False)"
   ]
  },
  {
   "cell_type": "code",
   "execution_count": 51,
   "metadata": {},
   "outputs": [],
   "source": [
    "# Fields\n",
    "\n",
    "label_field = Field(sequential=False, use_vocab=False, batch_first=True, dtype=torch.float)\n",
    "text_field = Field(tokenize='spacy', lower=True, include_lengths=True, batch_first=True)\n",
    "fields = [('label', label_field), ('title', text_field), ('text', text_field), ('titletext', text_field)]\n",
    "\n",
    "# TabularDataset\n",
    "\n",
    "kaggle_train, kaggle_valid, kaggle_test = TabularDataset.splits(path='/home/paul/Desktop/Paul/PyTorch-Hackathon-2020/fake_and_real_news/', train='train.csv', validation='valid.csv', test='test.csv',\n",
    "                                           format='CSV', fields=fields, skip_header=True)\n",
    "\n",
    "\n",
    "# Iterators\n",
    "\n",
    "kaggle_train_iter = BucketIterator(kaggle_train, batch_size=32, sort_key=lambda x: len(x.text),\n",
    "                            device=None, sort=True, sort_within_batch=True)\n",
    "kaggle_valid_iter = BucketIterator(kaggle_valid, batch_size=32, sort_key=lambda x: len(x.text),\n",
    "                            device=None, sort=True, sort_within_batch=True)\n",
    "kaggle_test_iter = BucketIterator(kaggle_test, batch_size=32, sort_key=lambda x: len(x.text),\n",
    "                            device=None, sort=True, sort_within_batch=True)\n",
    "\n",
    "# Vocabulary\n",
    "\n",
    "text_field.build_vocab(kaggle_train, min_freq=3)"
   ]
  },
  {
   "cell_type": "code",
   "execution_count": 52,
   "metadata": {},
   "outputs": [],
   "source": [
    "# Save and Load Functions\n",
    "\n",
    "def save_checkpoint(save_path, model, optimizer, valid_loss):\n",
    "\n",
    "    if save_path == None:\n",
    "        return\n",
    "    \n",
    "    state_dict = {'model_state_dict': model.state_dict(),\n",
    "                  'optimizer_state_dict': optimizer.state_dict(),\n",
    "                  'valid_loss': valid_loss}\n",
    "    \n",
    "    torch.save(state_dict, save_path)\n",
    "    print(f'Model saved to ==> {save_path}')\n",
    "\n",
    "\n",
    "def load_checkpoint(load_path, model, optimizer):\n",
    "\n",
    "    if load_path==None:\n",
    "        return\n",
    "    \n",
    "    state_dict = torch.load(load_path, map_location=None)\n",
    "    print(f'Model loaded from <== {load_path}')\n",
    "    \n",
    "    model.load_state_dict(state_dict['model_state_dict'])\n",
    "    optimizer.load_state_dict(state_dict['optimizer_state_dict'])\n",
    "    \n",
    "    return state_dict['valid_loss']\n",
    "\n",
    "\n",
    "def save_metrics(save_path, train_loss_list, valid_loss_list, global_steps_list):\n",
    "\n",
    "    if save_path == None:\n",
    "        return\n",
    "    \n",
    "    state_dict = {'train_loss_list': train_loss_list,\n",
    "                  'valid_loss_list': valid_loss_list,\n",
    "                  'global_steps_list': global_steps_list}\n",
    "    \n",
    "    torch.save(state_dict, save_path)\n",
    "    print(f'Model saved to ==> {save_path}')\n",
    "\n",
    "\n",
    "def load_metrics(load_path):\n",
    "\n",
    "    if load_path==None:\n",
    "        return\n",
    "    \n",
    "    state_dict = torch.load(load_path, map_location=None)\n",
    "    print(f'Model loaded from <== {load_path}')\n",
    "    \n",
    "    return state_dict['train_loss_list'], state_dict['valid_loss_list'], state_dict['global_steps_list']"
   ]
  },
  {
   "cell_type": "code",
   "execution_count": 53,
   "metadata": {},
   "outputs": [
    {
     "name": "stdout",
     "output_type": "stream",
     "text": [
      "Epoch [1/10], Step [8/160], Train Loss: 0.6990, Valid Loss: 0.6674\n",
      "Model saved to ==> /home/paul/Desktop/Paul/PyTorch-Hackathon-2020/fake_and_real_news//model.pt\n",
      "Model saved to ==> /home/paul/Desktop/Paul/PyTorch-Hackathon-2020/fake_and_real_news//metrics.pt\n",
      "Epoch [1/10], Step [16/160], Train Loss: 0.6877, Valid Loss: 0.6515\n",
      "Model saved to ==> /home/paul/Desktop/Paul/PyTorch-Hackathon-2020/fake_and_real_news//model.pt\n",
      "Model saved to ==> /home/paul/Desktop/Paul/PyTorch-Hackathon-2020/fake_and_real_news//metrics.pt\n",
      "Epoch [2/10], Step [24/160], Train Loss: 0.5777, Valid Loss: 0.6372\n",
      "Model saved to ==> /home/paul/Desktop/Paul/PyTorch-Hackathon-2020/fake_and_real_news//model.pt\n",
      "Model saved to ==> /home/paul/Desktop/Paul/PyTorch-Hackathon-2020/fake_and_real_news//metrics.pt\n",
      "Epoch [2/10], Step [32/160], Train Loss: 0.5947, Valid Loss: 0.6212\n",
      "Model saved to ==> /home/paul/Desktop/Paul/PyTorch-Hackathon-2020/fake_and_real_news//model.pt\n",
      "Model saved to ==> /home/paul/Desktop/Paul/PyTorch-Hackathon-2020/fake_and_real_news//metrics.pt\n",
      "Epoch [3/10], Step [40/160], Train Loss: 0.4933, Valid Loss: 0.6068\n",
      "Model saved to ==> /home/paul/Desktop/Paul/PyTorch-Hackathon-2020/fake_and_real_news//model.pt\n",
      "Model saved to ==> /home/paul/Desktop/Paul/PyTorch-Hackathon-2020/fake_and_real_news//metrics.pt\n",
      "Epoch [3/10], Step [48/160], Train Loss: 0.4893, Valid Loss: 0.5881\n",
      "Model saved to ==> /home/paul/Desktop/Paul/PyTorch-Hackathon-2020/fake_and_real_news//model.pt\n",
      "Model saved to ==> /home/paul/Desktop/Paul/PyTorch-Hackathon-2020/fake_and_real_news//metrics.pt\n",
      "Epoch [4/10], Step [56/160], Train Loss: 0.3743, Valid Loss: 0.5758\n",
      "Model saved to ==> /home/paul/Desktop/Paul/PyTorch-Hackathon-2020/fake_and_real_news//model.pt\n",
      "Model saved to ==> /home/paul/Desktop/Paul/PyTorch-Hackathon-2020/fake_and_real_news//metrics.pt\n",
      "Epoch [4/10], Step [64/160], Train Loss: 0.3618, Valid Loss: 0.5440\n",
      "Model saved to ==> /home/paul/Desktop/Paul/PyTorch-Hackathon-2020/fake_and_real_news//model.pt\n",
      "Model saved to ==> /home/paul/Desktop/Paul/PyTorch-Hackathon-2020/fake_and_real_news//metrics.pt\n",
      "Epoch [5/10], Step [72/160], Train Loss: 0.2265, Valid Loss: 0.5315\n",
      "Model saved to ==> /home/paul/Desktop/Paul/PyTorch-Hackathon-2020/fake_and_real_news//model.pt\n",
      "Model saved to ==> /home/paul/Desktop/Paul/PyTorch-Hackathon-2020/fake_and_real_news//metrics.pt\n",
      "Epoch [5/10], Step [80/160], Train Loss: 0.2009, Valid Loss: 0.4493\n",
      "Model saved to ==> /home/paul/Desktop/Paul/PyTorch-Hackathon-2020/fake_and_real_news//model.pt\n",
      "Model saved to ==> /home/paul/Desktop/Paul/PyTorch-Hackathon-2020/fake_and_real_news//metrics.pt\n",
      "Epoch [6/10], Step [88/160], Train Loss: 0.0968, Valid Loss: 0.4326\n",
      "Model saved to ==> /home/paul/Desktop/Paul/PyTorch-Hackathon-2020/fake_and_real_news//model.pt\n",
      "Model saved to ==> /home/paul/Desktop/Paul/PyTorch-Hackathon-2020/fake_and_real_news//metrics.pt\n",
      "Epoch [6/10], Step [96/160], Train Loss: 0.0697, Valid Loss: 0.3668\n",
      "Model saved to ==> /home/paul/Desktop/Paul/PyTorch-Hackathon-2020/fake_and_real_news//model.pt\n",
      "Model saved to ==> /home/paul/Desktop/Paul/PyTorch-Hackathon-2020/fake_and_real_news//metrics.pt\n",
      "Epoch [7/10], Step [104/160], Train Loss: 0.0434, Valid Loss: 0.6856\n",
      "Epoch [7/10], Step [112/160], Train Loss: 0.0320, Valid Loss: 0.3852\n",
      "Epoch [8/10], Step [120/160], Train Loss: 0.0214, Valid Loss: 0.3757\n",
      "Epoch [8/10], Step [128/160], Train Loss: 0.0197, Valid Loss: 0.3791\n",
      "Epoch [9/10], Step [136/160], Train Loss: 0.0146, Valid Loss: 0.4318\n",
      "Epoch [9/10], Step [144/160], Train Loss: 0.0120, Valid Loss: 0.4300\n",
      "Epoch [10/10], Step [152/160], Train Loss: 0.0082, Valid Loss: 0.3903\n",
      "Epoch [10/10], Step [160/160], Train Loss: 0.0057, Valid Loss: 0.5068\n",
      "Model saved to ==> /home/paul/Desktop/Paul/PyTorch-Hackathon-2020/fake_and_real_news//metrics.pt\n",
      "Finished Training!\n"
     ]
    }
   ],
   "source": [
    "# Training Function\n",
    "\n",
    "def train(model,\n",
    "          optimizer,\n",
    "          criterion = nn.BCELoss(),\n",
    "          train_loader = kaggle_train_iter,\n",
    "          valid_loader = kaggle_valid_iter,\n",
    "          num_epochs = 5,\n",
    "          eval_every = len(kaggle_train_iter) // 2,\n",
    "          file_path = kaggle_destination_folder,\n",
    "          best_valid_loss = float(\"Inf\")):\n",
    "    \n",
    "    # initialize running values\n",
    "    running_loss = 0.0\n",
    "    valid_running_loss = 0.0\n",
    "    global_step = 0\n",
    "    train_loss_list = []\n",
    "    valid_loss_list = []\n",
    "    global_steps_list = []\n",
    "\n",
    "    # training loop\n",
    "    model.train()\n",
    "    for epoch in range(num_epochs):\n",
    "        for (labels, (title, title_len), (text, text_len), (titletext, titletext_len)), _ in train_loader:           \n",
    "#             labels = labels.to(device)\n",
    "#             titletext = titletext.to(device)\n",
    "#             titletext_len = titletext_len.to(device)\n",
    "            output = model(titletext, titletext_len)\n",
    "\n",
    "            loss = criterion(output, labels)\n",
    "            optimizer.zero_grad()\n",
    "            loss.backward()\n",
    "            optimizer.step()\n",
    "\n",
    "            # update running values\n",
    "            running_loss += loss.item()\n",
    "            global_step += 1\n",
    "\n",
    "            # evaluation step\n",
    "            if global_step % eval_every == 0:\n",
    "                model.eval()\n",
    "                with torch.no_grad():                    \n",
    "                  # validation loop\n",
    "                  for (labels, (title, title_len), (text, text_len), (titletext, titletext_len)), _ in valid_loader:\n",
    "#                       labels = labels.to(device)\n",
    "#                       titletext = titletext.to(device)\n",
    "#                       titletext_len = titletext_len.to(device)\n",
    "                      output = model(titletext, titletext_len)\n",
    "\n",
    "                      loss = criterion(output, labels)\n",
    "                      valid_running_loss += loss.item()\n",
    "\n",
    "                # evaluation\n",
    "                average_train_loss = running_loss / eval_every\n",
    "                average_valid_loss = valid_running_loss / len(valid_loader)\n",
    "                train_loss_list.append(average_train_loss)\n",
    "                valid_loss_list.append(average_valid_loss)\n",
    "                global_steps_list.append(global_step)\n",
    "\n",
    "                # resetting running values\n",
    "                running_loss = 0.0                \n",
    "                valid_running_loss = 0.0\n",
    "                model.train()\n",
    "\n",
    "                # print progress\n",
    "                print('Epoch [{}/{}], Step [{}/{}], Train Loss: {:.4f}, Valid Loss: {:.4f}'\n",
    "                      .format(epoch+1, num_epochs, global_step, num_epochs*len(train_loader),\n",
    "                              average_train_loss, average_valid_loss))\n",
    "                \n",
    "                # checkpoint\n",
    "                if best_valid_loss > average_valid_loss:\n",
    "                    best_valid_loss = average_valid_loss\n",
    "                    save_checkpoint(file_path + '/model.pt', model, optimizer, best_valid_loss)\n",
    "                    save_metrics(file_path + '/metrics.pt', train_loss_list, valid_loss_list, global_steps_list)\n",
    "    \n",
    "    save_metrics(file_path + '/metrics.pt', train_loss_list, valid_loss_list, global_steps_list)\n",
    "    print('Finished Training!')\n",
    "\n",
    "\n",
    "# model = LSTM().to(device)\n",
    "model = LSTM()\n",
    "optimizer = optim.Adam(model.parameters(), lr=0.001)\n",
    "\n",
    "train(model=model, optimizer=optimizer, num_epochs=10)"
   ]
  },
  {
   "cell_type": "code",
   "execution_count": 54,
   "metadata": {},
   "outputs": [
    {
     "name": "stdout",
     "output_type": "stream",
     "text": [
      "Model loaded from <== /home/paul/Desktop/Paul/PyTorch-Hackathon-2020/fake_and_real_news//metrics.pt\n"
     ]
    },
    {
     "data": {
      "image/png": "[encoded data removed]",
      "text/plain": [
       "<Figure size 432x288 with 1 Axes>"
      ]
     },
     "metadata": {
      "needs_background": "light"
     },
     "output_type": "display_data"
    }
   ],
   "source": [
    "train_loss_list, valid_loss_list, global_steps_list = load_metrics(kaggle_destination_folder + '/metrics.pt')\n",
    "plt.plot(global_steps_list, train_loss_list, label='Train')\n",
    "plt.plot(global_steps_list, valid_loss_list, label='Valid')\n",
    "plt.xlabel('Global Steps')\n",
    "plt.ylabel('Loss')\n",
    "plt.legend()\n",
    "plt.show() "
   ]
  },
  {
   "cell_type": "code",
   "execution_count": 55,
   "metadata": {},
   "outputs": [
    {
     "name": "stdout",
     "output_type": "stream",
     "text": [
      "Model loaded from <== /home/paul/Desktop/Paul/PyTorch-Hackathon-2020/fake_and_real_news//model.pt\n",
      "Classification Report:\n",
      "              precision    recall  f1-score   support\n",
      "\n",
      "           1     0.8050    0.7390    0.7706      2816\n",
      "           0     0.7618    0.8234    0.7914      2854\n",
      "\n",
      "    accuracy                         0.7815      5670\n",
      "   macro avg     0.7834    0.7812    0.7810      5670\n",
      "weighted avg     0.7832    0.7815    0.7811      5670\n",
      "\n"
     ]
    },
    {
     "data": {
      "image/png": "[encoded data removed]",
      "text/plain": [
       "<Figure size 432x288 with 2 Axes>"
      ]
     },
     "metadata": {
      "needs_background": "light"
     },
     "output_type": "display_data"
    }
   ],
   "source": [
    "# Evaluation Function\n",
    "\n",
    "def evaluate(model, test_loader, version='title', threshold=0.5):\n",
    "    y_pred = []\n",
    "    y_true = []\n",
    "\n",
    "    model.eval()\n",
    "    with torch.no_grad():\n",
    "        for (labels, (title, title_len), (text, text_len), (titletext, titletext_len)), _ in test_loader:           \n",
    "#             labels = labels.to(device)\n",
    "#             titletext = titletext.to(device)\n",
    "#             titletext_len = titletext_len.to(device)\n",
    "            output = model(titletext, titletext_len)\n",
    "\n",
    "            output = (output > threshold).int()\n",
    "            y_pred.extend(output.tolist())\n",
    "            y_true.extend(labels.tolist())\n",
    "    \n",
    "    print('Classification Report:')\n",
    "    print(classification_report(y_true, y_pred, labels=[1,0], digits=4))\n",
    "    \n",
    "    cm = confusion_matrix(y_true, y_pred, labels=[1,0])\n",
    "    ax= plt.subplot()\n",
    "    sns.heatmap(cm, annot=True, ax = ax, cmap='Blues', fmt=\"d\")\n",
    "\n",
    "    ax.set_title('Confusion Matrix')\n",
    "\n",
    "    ax.set_xlabel('Predicted Labels')\n",
    "    ax.set_ylabel('True Labels')\n",
    "\n",
    "    ax.xaxis.set_ticklabels(['FAKE', 'REAL'])\n",
    "    ax.yaxis.set_ticklabels(['FAKE', 'REAL'])\n",
    "    \n",
    "    \n",
    "# best_model = LSTM().to(device)\n",
    "kaggle_best_model = LSTM()\n",
    "optimizer = optim.Adam(best_model.parameters(), lr=0.001)\n",
    "\n",
    "load_checkpoint(kaggle_destination_folder + '/model.pt', kaggle_best_model, optimizer)\n",
    "evaluate(kaggle_best_model, test_iter)"
   ]
  },
  {
   "cell_type": "code",
   "execution_count": 56,
   "metadata": {},
   "outputs": [],
   "source": [
    "item = next(iter(kaggle_train_iter))"
   ]
  },
  {
   "cell_type": "code",
   "execution_count": 57,
   "metadata": {},
   "outputs": [
    {
     "data": {
      "text/plain": [
       "\n",
       "[torchtext.data.batch.Batch of size 32]\n",
       "\t[.label]:[torch.FloatTensor of size 32]\n",
       "\t[.title]:('[torch.LongTensor of size 32x20]', '[torch.LongTensor of size 32]')\n",
       "\t[.text]:('[torch.LongTensor of size 32x58]', '[torch.LongTensor of size 32]')\n",
       "\t[.titletext]:('[torch.LongTensor of size 32x69]', '[torch.LongTensor of size 32]')"
      ]
     },
     "execution_count": 57,
     "metadata": {},
     "output_type": "execute_result"
    }
   ],
   "source": [
    "item"
   ]
  },
  {
   "cell_type": "code",
   "execution_count": 58,
   "metadata": {},
   "outputs": [
    {
     "data": {
      "text/plain": [
       "tensor([0.0236, 0.9853, 0.9945, 0.9651, 0.9596, 0.9727, 0.8820, 0.9872, 0.0532,\n",
       "        0.9931, 0.9542, 0.0087, 0.9443, 0.9974, 0.0305, 0.9873, 0.0082, 0.0035,\n",
       "        0.0058, 0.0057, 0.0125, 0.0035, 0.0066, 0.0014, 0.0015, 0.0028, 0.0012,\n",
       "        0.0024, 0.0017, 0.0242, 0.9653, 0.8190], grad_fn=<SigmoidBackward>)"
      ]
     },
     "execution_count": 58,
     "metadata": {},
     "output_type": "execute_result"
    }
   ],
   "source": [
    "kaggle_best_model(item.titletext[0], item.titletext[1])"
   ]
  },
  {
   "cell_type": "code",
   "execution_count": 59,
   "metadata": {},
   "outputs": [],
   "source": [
    "# print trainset text, label; print model's prediction\n",
    "\n",
    "def print_prediction():\n",
    "    item = next(iter(kaggle_train_iter))\n",
    "    print(item.titletext, 'titletext')\n",
    "    print(item.label, 'label')\n",
    "    \n",
    "    item_titletext = item.titletext[0]\n",
    "    item_titletext_len = item.titletext[1]\n",
    "    \n",
    "    pred = kaggle_best_model(item_titletext, item_titletext_len)\n",
    "    pred_detached = pred.detach().numpy()\n",
    "    print(pred)\n",
    "    \n",
    "    # plot labels and predictions\n",
    "    plt.figure()\n",
    "    plt.plot(item.label)\n",
    "    plt.plot(pred_detached)\n",
    "\n"
   ]
  },
  {
   "cell_type": "code",
   "execution_count": 60,
   "metadata": {},
   "outputs": [
    {
     "name": "stdout",
     "output_type": "stream",
     "text": [
      "(tensor([[2470,  175,  452,  ..., 3195,    4,    1],\n",
      "        [1430,    3,    0,  ...,  462,    2, 2019],\n",
      "        [5073,  748, 3290,  ...,    1,    1,    1],\n",
      "        ...,\n",
      "        [1554,    7,    0,  ...,    1,    1,    1],\n",
      "        [ 272, 3831,   15,  ...,    1,    1,    1],\n",
      "        [   2, 1095, 1677,  ...,    1,    1,    1]]), tensor([68, 69, 64, 60, 63, 58, 62, 62, 48, 51, 39, 39, 48, 41, 33, 40, 34, 32,\n",
      "        31, 32, 26, 30, 29, 30, 30, 30, 31, 29, 29, 26, 19, 13])) titletext\n",
      "tensor([0., 1., 1., 1., 1., 1., 1., 1., 0., 1., 1., 0., 1., 1., 0., 1., 0., 0.,\n",
      "        0., 0., 0., 0., 0., 0., 0., 0., 0., 0., 0., 0., 1., 1.]) label\n",
      "tensor([0.0236, 0.9853, 0.9945, 0.9651, 0.9596, 0.9727, 0.8820, 0.9872, 0.0532,\n",
      "        0.9931, 0.9542, 0.0087, 0.9443, 0.9974, 0.0305, 0.9873, 0.0082, 0.0035,\n",
      "        0.0058, 0.0057, 0.0125, 0.0035, 0.0066, 0.0014, 0.0015, 0.0028, 0.0012,\n",
      "        0.0024, 0.0017, 0.0242, 0.9653, 0.8190], grad_fn=<SigmoidBackward>)\n"
     ]
    },
    {
     "data": {
      "image/png": "[encoded data removed]",
      "text/plain": [
       "<Figure size 432x288 with 1 Axes>"
      ]
     },
     "metadata": {
      "needs_background": "light"
     },
     "output_type": "display_data"
    }
   ],
   "source": [
    "print_prediction()"
   ]
  },
  {
   "cell_type": "code",
   "execution_count": null,
   "metadata": {},
   "outputs": [],
   "source": []
  }
 ],
 "metadata": {
  "kernelspec": {
   "display_name": "Python 3",
   "language": "python",
   "name": "python3"
  },
  "language_info": {
   "codemirror_mode": {
    "name": "ipython",
    "version": 3
   },
   "file_extension": ".py",
   "mimetype": "text/x-python",
   "name": "python",
   "nbconvert_exporter": "python",
   "pygments_lexer": "ipython3",
   "version": "3.7.4"
  }
 },
 "nbformat": 4,
 "nbformat_minor": 4
}
